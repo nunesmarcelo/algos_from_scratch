{
 "cells": [
  {
   "cell_type": "markdown",
   "id": "78bbfc2e-4d60-4aeb-8b84-76ebf59c063e",
   "metadata": {},
   "source": [
    "### Based on: https://github.com/Suji04/ML_from_Scratch/blob/master/decision%20tree%20classification.ipynb"
   ]
  },
  {
   "cell_type": "code",
   "execution_count": 66,
   "id": "988f6ad2-7353-4ea2-91e1-9455a8a6069c",
   "metadata": {},
   "outputs": [],
   "source": [
    "import numpy as np\n",
    "import pandas as pd\n",
    "from scipy import stats as st"
   ]
  },
  {
   "cell_type": "code",
   "execution_count": 67,
   "id": "514f12a3-cea9-44ff-bd62-bce337393569",
   "metadata": {},
   "outputs": [],
   "source": [
    "from sklearn.datasets import load_iris\n",
    "df = load_iris()\n",
    "\n",
    "df = pd.DataFrame(data= np.c_[df['data'], df['target']],\n",
    "                     columns= df['feature_names'] + ['target'])"
   ]
  },
  {
   "cell_type": "code",
   "execution_count": 68,
   "id": "375c114b-ba20-479c-b2d6-902646c44ae6",
   "metadata": {},
   "outputs": [],
   "source": [
    "X = df.drop(columns=['target'])\n",
    "y = df['target']"
   ]
  },
  {
   "cell_type": "code",
   "execution_count": 171,
   "id": "5e16b619-f251-4fc2-bc0f-1240defaaa92",
   "metadata": {},
   "outputs": [],
   "source": [
    "class Node:\n",
    "    def __init__(self, left_node=None, right_node=None, attr_idx=None, threshold=None, ig=-np.inf, pred_class=None):\n",
    "        self.left_node = left_node\n",
    "        self.right_node = right_node\n",
    "        self.attr_idx = attr_idx\n",
    "        self.threshold = threshold\n",
    "        self.ig = ig\n",
    "        self.pred_class = pred_class\n",
    "\n",
    "class DecisionTreeClassifier:\n",
    "    def __init__(self, min_samples_split=None, max_depth=None):\n",
    "        self.max_depth = max_depth\n",
    "        self.min_samples_split = min_samples_split\n",
    "\n",
    "        self.gains_attr_value = None\n",
    "        self.tree = None\n",
    "        self.attr_names = None\n",
    "\n",
    "    def fit(self, X, y):\n",
    "\n",
    "        if isinstance(X, pd.DataFrame):\n",
    "            self.attr_names = X.columns\n",
    "            X = X.to_numpy()\n",
    "        assert isinstance(X, np.ndarray), \"X must be a pd.DataFrame or a np.ndarray\"\n",
    "\n",
    "        if len(X[0]) != len(y):\n",
    "            X = X.T\n",
    "            \n",
    "        self.tree = self._build_tree(X, y)\n",
    "\n",
    "    def _build_tree(self, X, y, depth=0):\n",
    "        new_node = Node()\n",
    "        \n",
    "        for attr_idx in range(len(X)):\n",
    "            attr_values = np.unique(X[attr_idx])\n",
    "            for current_value in attr_values[:-1]:\n",
    "                mask = X[attr_idx] <= current_value\n",
    "                ig = self.information_gain(y, mask)\n",
    "\n",
    "                if ig > new_node.ig:\n",
    "                    new_node.attr_idx = attr_idx\n",
    "                    new_node.threshold = current_value\n",
    "                    new_node.ig = ig\n",
    "\n",
    "        if (\n",
    "            round(new_node.ig, 5) <= 0 \n",
    "            or not new_node.threshold \n",
    "            or depth+1 > self.max_depth \n",
    "            or len(X) <= self.min_samples_split\n",
    "        ):\n",
    "            new_node.pred_class = st.mode(y).mode\n",
    "            return new_node\n",
    "\n",
    "        mask = X[new_node.attr_idx] <= new_node.threshold\n",
    "        X_left, y_left = X[:, mask], y[mask]\n",
    "        X_right, y_right = X[:, ~mask], y[~mask]\n",
    "\n",
    "        new_node.left_node = self._build_tree(X_left, y_left, depth+1)\n",
    "        new_node.right_node = self._build_tree(X_right, y_right, depth+1)\n",
    "\n",
    "        return new_node\n",
    "    \n",
    "    def information_gain(self, y, mask):\n",
    "        p = mask.sum()\n",
    "        n = len(mask) - p\n",
    "        \n",
    "        if p == 0 or n == 0:\n",
    "            return 0\n",
    "    \n",
    "        # if tree_type == 'regression':\n",
    "        #     ig = variance(y) \n",
    "        #     ig -= p / (p + n) * variance(y[mask])\n",
    "        #     ig -= n / (p + n) * variance(y[~mask])\n",
    "        #     return ig\n",
    "                \n",
    "        func = self.entropy\n",
    "        ig = func(y)\n",
    "        ig -= p / (p+n) * func(y[mask])\n",
    "        ig -= n / (p+n) * func(y[~mask])\n",
    "        return ig\n",
    "    \n",
    "        raise ValueError(\"tree_type must be regression or classification\")\n",
    "\n",
    "    def gini_impurity(self, y):\n",
    "        assert isinstance(y, pd.Series), \"Object must be a Pandas Series.\"\n",
    "        p = y.value_counts()/y.shape[0]\n",
    "        gini = 1-np.sum(p**2)\n",
    "        return(gini)\n",
    "        \n",
    "    def entropy(self, y):\n",
    "        assert isinstance(y, pd.Series), \"Object must be a Pandas Series.\"\n",
    "        a = y.value_counts()/y.shape[0]\n",
    "        entropy = np.sum(-a*np.log2(a+1e-9))\n",
    "        return(entropy)\n",
    "\n",
    "    def print_tree(self, node=model.tree, hyphens='', level=0):\n",
    "        if node.pred_class is not None:\n",
    "            print(\"|\" + hyphens, end=' ')\n",
    "            print(\"class: \", node.pred_class)\n",
    "        else:\n",
    "            print(\"|\", hyphens, level, '___' , end=' ')\n",
    "            print(f\"{self.attr_names[node.attr_idx]} <= {node.threshold} (gain: {round(node.ig, 4)})\")\n",
    "            self.print_tree(node.left_node, hyphens + '___', level+1)\n",
    "\n",
    "            print(\"|\", hyphens, level, '___' , end=' ')\n",
    "            print(f\"{self.attr_names[node.attr_idx]} > {node.threshold} (gain: {round(node.ig, 4)})\")\n",
    "            self.print_tree(node.right_node, hyphens + '___', level+1)\n",
    "\n",
    "    def predict(self, X):\n",
    "\n",
    "        if isinstance(X, pd.DataFrame):\n",
    "            self.attr_names = X.columns\n",
    "            X = X.to_numpy()\n",
    "        assert isinstance(X, np.ndarray), \"X must be a pd.DataFrame or a np.ndarray\"\n",
    "\n",
    "        predictions = []\n",
    "        \n",
    "        for row in X:\n",
    "            predictions.append(self.walk_on_tree(row, self.tree))\n",
    "\n",
    "        return predictions\n",
    "\n",
    "    def walk_on_tree(self, row, node):\n",
    "        if node.pred_class is not None:\n",
    "            return node.pred_class\n",
    "        if row[node.attr_idx] <= node.threshold:\n",
    "            return self.walk_on_tree(row, node.left_node)\n",
    "        return self.walk_on_tree(row, node.right_node)"
   ]
  },
  {
   "cell_type": "code",
   "execution_count": 172,
   "id": "5b8b6337-6fba-4cc5-8b07-52ece1bf03c3",
   "metadata": {},
   "outputs": [],
   "source": [
    "from sklearn.model_selection import train_test_split\n",
    "X_train, X_test, Y_train, Y_test = train_test_split(X, y, test_size=.2, random_state=41)"
   ]
  },
  {
   "cell_type": "code",
   "execution_count": 173,
   "id": "01fcd533-176c-4348-a54d-9a3440491332",
   "metadata": {},
   "outputs": [
    {
     "name": "stdout",
     "output_type": "stream",
     "text": [
      "|  0 ___ petal length (cm) <= 1.9 (gain: 0.9183)\n",
      "|___ class:  0.0\n",
      "|  0 ___ petal length (cm) > 1.9 (gain: 0.9183)\n",
      "| ___ 1 ___ petal width (cm) <= 1.7 (gain: 0.6902)\n",
      "| ______ 2 ___ petal length (cm) <= 4.9 (gain: 0.2132)\n",
      "|_________ class:  1.0\n",
      "| ______ 2 ___ petal length (cm) > 4.9 (gain: 0.2132)\n",
      "|_________ class:  2.0\n",
      "| ___ 1 ___ petal width (cm) > 1.7 (gain: 0.6902)\n",
      "| ______ 2 ___ petal length (cm) <= 4.8 (gain: 0.0912)\n",
      "|_________ class:  2.0\n",
      "| ______ 2 ___ petal length (cm) > 4.8 (gain: 0.0912)\n",
      "|_________ class:  2.0\n"
     ]
    }
   ],
   "source": [
    "classifier = DecisionTreeClassifier(min_samples_split=3, max_depth=3)\n",
    "classifier.fit(X_train,Y_train)\n",
    "classifier.print_tree()"
   ]
  },
  {
   "cell_type": "code",
   "execution_count": 174,
   "id": "eb2f6132-d7ee-452a-8264-a7910bf07580",
   "metadata": {},
   "outputs": [
    {
     "data": {
      "text/plain": [
       "0.9"
      ]
     },
     "execution_count": 174,
     "metadata": {},
     "output_type": "execute_result"
    }
   ],
   "source": [
    "Y_pred = classifier.predict(X_test) \n",
    "from sklearn.metrics import accuracy_score\n",
    "accuracy_score(Y_test, Y_pred)"
   ]
  }
 ],
 "metadata": {
  "kernelspec": {
   "display_name": "Python 3 (ipykernel)",
   "language": "python",
   "name": "python3"
  },
  "language_info": {
   "codemirror_mode": {
    "name": "ipython",
    "version": 3
   },
   "file_extension": ".py",
   "mimetype": "text/x-python",
   "name": "python",
   "nbconvert_exporter": "python",
   "pygments_lexer": "ipython3",
   "version": "3.10.12"
  }
 },
 "nbformat": 4,
 "nbformat_minor": 5
}
